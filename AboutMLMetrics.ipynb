{
 "cells": [
  {
   "cell_type": "markdown",
   "metadata": {
    "slideshow": {
     "slide_type": "slide"
    }
   },
   "source": [
    "# 分類精度の評価について<br><small>正解率だけが精度じゃない！</small>"
   ]
  },
  {
   "cell_type": "markdown",
   "metadata": {},
   "source": [
    "<p style=\"text-align:center;font-size:150%;line-height:150%\">2016/09/10 機械学習 名古屋 第6回勉強会<br>後藤 俊介 ( @antimon2 )</p>"
   ]
  },
  {
   "cell_type": "markdown",
   "metadata": {
    "slideshow": {
     "slide_type": "slide"
    }
   },
   "source": [
    "## 自己紹介"
   ]
  },
  {
   "cell_type": "markdown",
   "metadata": {},
   "source": [
    "+ 名前：後藤 俊介\n",
    "+ 所属：**有限会社 来栖川電算**\n",
    "+ 言語：Python, Julia, Ruby, Scala（勉強中）, …\n",
    "+ twitter: [@antimon2](https://twitter.com/antimon2 \"あんちもん2(@antimon2)さん | Twitter\")\n",
    "+ Facebook: [antimon2](https://www.facebook.com/antimon2 \"後藤 俊介\")\n",
    "+ GitHub: [antimon2](https://github.com/antimon2/ \"antimon2 (GOTOH Shunsuke)\")"
   ]
  },
  {
   "cell_type": "markdown",
   "metadata": {
    "slideshow": {
     "slide_type": "slide"
    }
   },
   "source": [
    "# シチュエーション"
   ]
  },
  {
   "cell_type": "markdown",
   "metadata": {
    "slideshow": {
     "slide_type": "fragment"
    }
   },
   "source": [
    "+ キノコが10個ある。\n",
    "+ いくつかは安全なキノコで、いくつかは毒キノコ。\n",
    "+ できるだけ安全なキノコだけを選びたい。\n",
    "+ かつ、できる限りたくさんのキノコを選びたい。"
   ]
  },
  {
   "cell_type": "markdown",
   "metadata": {
    "slideshow": {
     "slide_type": "subslide"
    }
   },
   "source": [
    "## 例えば。"
   ]
  },
  {
   "cell_type": "markdown",
   "metadata": {
    "slideshow": {
     "slide_type": "fragment"
    }
   },
   "source": [
    "+ 安全なキノコは4個（毒キノコが6個）あった。  \n",
    "  （「○」が安全なキノコ、「×」が毒キノコ↓）"
   ]
  },
  {
   "cell_type": "markdown",
   "metadata": {},
   "source": [
    "<table>\n",
    "<tr>\n",
    "<td>○</td><td>○</td><td>○</td><td>×</td><td>×</td><td>○</td><td>×</td><td>×</td><td>×</td><td>×</td>\n",
    "</tr>\n",
    "</table>"
   ]
  },
  {
   "cell_type": "markdown",
   "metadata": {
    "slideshow": {
     "slide_type": "notes"
    }
   },
   "source": [
    "※↑選ぶ人はどれが安全か知らない。"
   ]
  },
  {
   "cell_type": "markdown",
   "metadata": {
    "slideshow": {
     "slide_type": "subslide"
    }
   },
   "source": [
    "## 選んでみた。"
   ]
  },
  {
   "cell_type": "markdown",
   "metadata": {
    "slideshow": {
     "slide_type": "fragment"
    }
   },
   "source": [
    "+ 10個中 5個 のキノコを選んだ。  "
   ]
  },
  {
   "cell_type": "markdown",
   "metadata": {},
   "source": [
    "<table>\n",
    "<tr>\n",
    "<th style=\"background:#eee\">正解</th><td>○</td><td>○</td><td>○</td><td>×</td><td>×</td><td>○</td><td>×</td><td>×</td><td>×</td><td>×</td>\n",
    "</tr>\n",
    "<tr>\n",
    "<th style=\"background:#eee\">選択</th><td>○</td><td>○</td><td>○</td><td>○</td><td>○</td><td>×</td><td>×</td><td>×</td><td>×</td><td>×</td>\n",
    "</tr>\n",
    "</table>"
   ]
  },
  {
   "cell_type": "markdown",
   "metadata": {
    "slideshow": {
     "slide_type": "notes"
    }
   },
   "source": [
    "※ うち3個が安全なキノコ、2個が毒キノコだった"
   ]
  },
  {
   "cell_type": "markdown",
   "metadata": {
    "slideshow": {
     "slide_type": "subslide"
    }
   },
   "source": [
    "## 表にしてみた。"
   ]
  },
  {
   "cell_type": "markdown",
   "metadata": {
    "slideshow": {
     "slide_type": "-"
    }
   },
   "source": [
    "<table>\n",
    "<tr>\n",
    "<th style=\"text-align:center;background:#eee\">&nbsp;</th><th style=\"text-align:center;background:#eee\">安全なキノコ</th><th style=\"text-align:center;background:#eee\">毒キノコ</th>\n",
    "</tr>\n",
    "<tr>\n",
    "<th style=\"text-align:center;background:#eee\">選んだキノコ</th><td style=\"text-align:center\">3</td><td style=\"text-align:center\">2</td>\n",
    "</tr>\n",
    "<tr>\n",
    "<th style=\"text-align:center;background:#eee\">選ばなかったキノコ</th><td style=\"text-align:center\">1</td><td style=\"text-align:center\">4</td>\n",
    "</tr>\n",
    "</table>"
   ]
  },
  {
   "cell_type": "markdown",
   "metadata": {
    "slideshow": {
     "slide_type": "subslide"
    }
   },
   "source": [
    "## ここで問題"
   ]
  },
  {
   "cell_type": "markdown",
   "metadata": {
    "slideshow": {
     "slide_type": "fragment"
    }
   },
   "source": [
    "この人は、どれくらいがんばった？  "
   ]
  },
  {
   "cell_type": "markdown",
   "metadata": {
    "slideshow": {
     "slide_type": "fragment"
    }
   },
   "source": [
    "（＝どう評価すれば良い？）"
   ]
  },
  {
   "cell_type": "markdown",
   "metadata": {
    "slideshow": {
     "slide_type": "skip"
    }
   },
   "source": [
    "# 評価指標"
   ]
  },
  {
   "cell_type": "markdown",
   "metadata": {
    "slideshow": {
     "slide_type": "slide"
    }
   },
   "source": [
    "## 正解率 (Accuracy)"
   ]
  },
  {
   "cell_type": "markdown",
   "metadata": {
    "slideshow": {
     "slide_type": "subslide"
    }
   },
   "source": [
    "<table>\n",
    "<tr>\n",
    "<th style=\"background:#eee\">正解</th><td style=\"color:#c00;font-weight:bold\">○</td><td style=\"color:#c00;font-weight:bold\">○</td><td style=\"color:#c00;font-weight:bold\">○</td><td>×</td><td>×</td><td>○</td><td style=\"color:#c00;font-weight:bold\">×</td><td style=\"color:#c00;font-weight:bold\">×</td><td style=\"color:#c00;font-weight:bold\">×</td><td style=\"color:#c00;font-weight:bold\">×</td>\n",
    "</tr>\n",
    "<tr>\n",
    "<th style=\"background:#eee\">選択</th><td style=\"color:#c00;font-weight:bold\">○</td><td style=\"color:#c00;font-weight:bold\">○</td><td style=\"color:#c00;font-weight:bold\">○</td><td>○</td><td>○</td><td>×</td><td style=\"color:#c00;font-weight:bold\">×</td><td style=\"color:#c00;font-weight:bold\">×</td><td style=\"color:#c00;font-weight:bold\">×</td><td style=\"color:#c00;font-weight:bold\">×</td>\n",
    "</tr>\n",
    "</table>"
   ]
  },
  {
   "cell_type": "markdown",
   "metadata": {},
   "source": [
    "$$\n",
    "{\\rm Accuracy} = \\frac{7}{10} = 0.7\n",
    "$$"
   ]
  },
  {
   "cell_type": "markdown",
   "metadata": {
    "slideshow": {
     "slide_type": "fragment"
    }
   },
   "source": [
    "+ 全キノコのうちの、正解だったキノコの割合。\n",
    "    + キノコ10個のうち、7個が正解 → 正解率は 0.7（70%）\n",
    "+ 「どれだけ『正しく判別』できたか」という、一番わかりやすい指標。一番よく使われる。"
   ]
  },
  {
   "cell_type": "markdown",
   "metadata": {
    "slideshow": {
     "slide_type": "subslide"
    }
   },
   "source": [
    "### 表の方で考えてみる。"
   ]
  },
  {
   "cell_type": "markdown",
   "metadata": {
    "slideshow": {
     "slide_type": "fragment"
    }
   },
   "source": [
    "<table>\n",
    "<tr>\n",
    "<th style=\"text-align:center;background:#eee\">&nbsp;</th><th style=\"text-align:center;background:#eee\">安全なキノコ</th><th style=\"text-align:center;background:#eee\">毒キノコ</th>\n",
    "</tr>\n",
    "<tr>\n",
    "<th style=\"text-align:center;background:#eee\">選んだキノコ</th><td style=\"text-align:center;background:#ddf;color:#c00;font-weight:bold\">3</td><td style=\"text-align:center;background:#ddf\">2</td>\n",
    "</tr>\n",
    "<tr>\n",
    "<th style=\"text-align:center;background:#eee\">選ばなかったキノコ</th><td style=\"text-align:center;background:#ddf\">1</td><td style=\"text-align:center;background:#ddf;color:#c00;font-weight:bold\">4</td>\n",
    "</tr>\n",
    "</table>"
   ]
  },
  {
   "cell_type": "markdown",
   "metadata": {},
   "source": [
    "$$\n",
    "{\\rm Accuracy} = \\frac{3 + 4}{3 + 2 + 1 + 4} = 0.7\n",
    "$$"
   ]
  },
  {
   "cell_type": "markdown",
   "metadata": {
    "slideshow": {
     "slide_type": "notes"
    }
   },
   "source": [
    "※ 簡単ですね！  \n",
    "※ でも、選択（抽出）の『精度』って、本当にこれで良いですか？"
   ]
  },
  {
   "cell_type": "markdown",
   "metadata": {
    "slideshow": {
     "slide_type": "slide"
    }
   },
   "source": [
    "## 適合率 (Precision)"
   ]
  },
  {
   "cell_type": "markdown",
   "metadata": {
    "slideshow": {
     "slide_type": "subslide"
    }
   },
   "source": [
    "<table>\n",
    "<tr>\n",
    "<th style=\"text-align:center;background:#eee\">&nbsp;</th><th style=\"text-align:center;background:#eee\">安全なキノコ</th><th style=\"text-align:center;background:#eee\">毒キノコ</th>\n",
    "</tr>\n",
    "<tr>\n",
    "<th style=\"text-align:center;background:#eef\">選んだキノコ</th><td style=\"text-align:center;background:#ddf;color:#c00;font-weight:bold\">3</td><td style=\"text-align:center;background:#ddf\">2</td>\n",
    "</tr>\n",
    "<tr>\n",
    "<th style=\"text-align:center;background:#eee\">選ばなかったキノコ</th><td style=\"text-align:center\">1</td><td style=\"text-align:center\">4</td>\n",
    "</tr>\n",
    "</table>"
   ]
  },
  {
   "cell_type": "markdown",
   "metadata": {},
   "source": [
    "$$\n",
    "{\\rm Precision} = \\frac{3}{3 + 2} = 0.6\n",
    "$$"
   ]
  },
  {
   "cell_type": "markdown",
   "metadata": {
    "slideshow": {
     "slide_type": "fragment"
    }
   },
   "source": [
    "+ 選んだキノコのうちの、正解だったキノコ（＝安全なキノコ）の割合。\n",
    "+ 「どれだけ『見る目』があるか」を測る指標。\n",
    "    + 適合率が高い ＝ 選んだキノコはほとんど安全なキノコ\n",
    "    + 適合率が低い ＝ 選んだキノコはかなり毒キノコ"
   ]
  },
  {
   "cell_type": "markdown",
   "metadata": {
    "slideshow": {
     "slide_type": "notes"
    }
   },
   "source": [
    "※ 正解率が 100% ならば、適合率は 100%。  \n",
    "※ 適合率のことを単に「精度」とも言う（英語では同じく Precision）。  \n",
    "※ TensorFlow の公式チュートリアルのサンプルでは、よく \"Precision\"（精度）という名称で、こっちじゃなくて実際には Accuracy になってたりするので注意！"
   ]
  },
  {
   "cell_type": "markdown",
   "metadata": {
    "slideshow": {
     "slide_type": "subslide"
    }
   },
   "source": [
    "**Q**: 適合率が 100% なのに、正解率が 100% でないのは、どんな場合？"
   ]
  },
  {
   "cell_type": "markdown",
   "metadata": {
    "slideshow": {
     "slide_type": "slide"
    }
   },
   "source": [
    "## 再現率 (Recall)"
   ]
  },
  {
   "cell_type": "markdown",
   "metadata": {
    "slideshow": {
     "slide_type": "subslide"
    }
   },
   "source": [
    "<table>\n",
    "<tr>\n",
    "<th style=\"text-align:center;background:#eee\">&nbsp;</th><th style=\"text-align:center;background:#eef\">安全なキノコ</th><th style=\"text-align:center;background:#eee\">毒キノコ</th>\n",
    "</tr>\n",
    "<tr>\n",
    "<th style=\"text-align:center;background:#eee\">選んだキノコ</th><td style=\"text-align:center;background:#ddf;color:#c00;font-weight:bold\">3</td><td style=\"text-align:center\">2</td>\n",
    "</tr>\n",
    "<tr>\n",
    "<th style=\"text-align:center;background:#eee\">選ばなかったキノコ</th><td style=\"text-align:center;background:#ddf\">1</td><td style=\"text-align:center\">4</td>\n",
    "</tr>\n",
    "</table>"
   ]
  },
  {
   "cell_type": "markdown",
   "metadata": {},
   "source": [
    "$$\n",
    "{\\rm Recall} = \\frac{3}{3 + 1} = 0.75\n",
    "$$"
   ]
  },
  {
   "cell_type": "markdown",
   "metadata": {
    "slideshow": {
     "slide_type": "fragment"
    }
   },
   "source": [
    "+ 安全なキノコのうちの、正解だったキノコ（＝選んだキノコ）の割合。\n",
    "+ 「どれだけ『取りこぼしがない』か」を測る指標。\n",
    "    + 再現率が高い ＝ 安全なキノコをほぼ全部選び出している\n",
    "    + 再現率が低い ＝ 安全なキノコをかなり取りこぼしている"
   ]
  },
  {
   "cell_type": "markdown",
   "metadata": {
    "slideshow": {
     "slide_type": "notes"
    }
   },
   "source": [
    "※ 正解率が 100% ならば、再現率は 100%。  \n",
    "※ 再現率は「感度 (Sensitivity)」とも言う。  \n",
    "※ 適合率 と 再現率 は **トレードオフ** の関係。"
   ]
  },
  {
   "cell_type": "markdown",
   "metadata": {
    "slideshow": {
     "slide_type": "subslide"
    }
   },
   "source": [
    "**Q**: 再現率が 100% なのに、正解率が 100% でないのは、どんな場合？"
   ]
  },
  {
   "cell_type": "markdown",
   "metadata": {
    "slideshow": {
     "slide_type": "slide"
    }
   },
   "source": [
    "### F-値 (F1-Score)"
   ]
  },
  {
   "cell_type": "markdown",
   "metadata": {},
   "source": [
    "$$\n",
    "\\begin{eqnarray}\n",
    "{\\rm F}_1 &=& \\frac{2}{\\frac{1}{\\rm Precision} + \\frac{1}{\\rm Recall}}\\\\\n",
    "    &=& \\frac{2 \\times {\\rm Precision} \\times {\\rm Recall}}{{\\rm Precision} + {\\rm Recall}}\\\\\n",
    "    &=& 0.66666\\dots\n",
    "\\end{eqnarray}\n",
    "$$"
   ]
  },
  {
   "cell_type": "markdown",
   "metadata": {
    "slideshow": {
     "slide_type": "subslide"
    }
   },
   "source": [
    "+ 適合率 と 再現率 の2つのバランスを見る指標。\n",
    "+ F-値 ＝ 適合率 と 再現率 の **調和平均**\n",
    "    + F-値が高い ＝ 適合率も再現率もそれなりに高くてバランスが取れている\n",
    "    + F-値が低い ＝ 適合率・再現率の少なくともどちらか（あるいは両方）が低い"
   ]
  },
  {
   "cell_type": "markdown",
   "metadata": {
    "slideshow": {
     "slide_type": "notes"
    }
   },
   "source": [
    "※ 調和平均：逆数の平均（相加平均）の逆数。  \n",
    "※ 正解率が 100% ならば、F-値は 100%。  \n",
    "※ このF-値 (F1-Score) は、recall に $\\beta^2$ の重みを乗せた重み付き調和平均で定義される Fβ-Score の特殊なもの（β=1）。"
   ]
  },
  {
   "cell_type": "markdown",
   "metadata": {
    "slideshow": {
     "slide_type": "subslide"
    }
   },
   "source": [
    "## ここで問題（再）"
   ]
  },
  {
   "cell_type": "markdown",
   "metadata": {
    "slideshow": {
     "slide_type": "fragment"
    }
   },
   "source": [
    "この人は、どれくらいがんばった？  "
   ]
  },
  {
   "cell_type": "markdown",
   "metadata": {
    "slideshow": {
     "slide_type": "fragment"
    }
   },
   "source": [
    "（＝どう評価すれば良い？）"
   ]
  },
  {
   "cell_type": "markdown",
   "metadata": {
    "slideshow": {
     "slide_type": "fragment"
    }
   },
   "source": [
    "（＝どの評価指標で評価すれば良い？）"
   ]
  },
  {
   "cell_type": "markdown",
   "metadata": {
    "slideshow": {
     "slide_type": "slide"
    }
   },
   "source": [
    "# 混同行列"
   ]
  },
  {
   "cell_type": "markdown",
   "metadata": {
    "slideshow": {
     "slide_type": "notes"
    }
   },
   "source": [
    "※ 問題の答えは置いといて、先ほどの 表 についてちょっと改めて説明してみます。"
   ]
  },
  {
   "cell_type": "markdown",
   "metadata": {
    "slideshow": {
     "slide_type": "slide"
    }
   },
   "source": [
    "## 混同行列 (Confusion Matrix)"
   ]
  },
  {
   "cell_type": "markdown",
   "metadata": {
    "slideshow": {
     "slide_type": "fragment"
    }
   },
   "source": [
    "<table>\n",
    "<tr>\n",
    "<th style=\"text-align:center;background:#eee\">&nbsp;</th><th style=\"text-align:center;background:#eee\">安全なキノコ</th><th style=\"text-align:center;background:#eee\">毒キノコ</th>\n",
    "</tr>\n",
    "<tr>\n",
    "<th style=\"text-align:center;background:#eee\">選んだキノコ</th><td style=\"text-align:center\">3</td><td style=\"text-align:center\">2</td>\n",
    "</tr>\n",
    "<tr>\n",
    "<th style=\"text-align:center;background:#eee\">選ばなかったキノコ</th><td style=\"text-align:center\">1</td><td style=\"text-align:center\">4</td>\n",
    "</tr>\n",
    "</table>"
   ]
  },
  {
   "cell_type": "markdown",
   "metadata": {},
   "source": [
    "コレのこと。"
   ]
  },
  {
   "cell_type": "markdown",
   "metadata": {
    "slideshow": {
     "slide_type": "notes"
    }
   },
   "source": [
    "※ データの分類で「うまくできた」「できなかった」を数え上げたクロス集計表のこと。"
   ]
  },
  {
   "cell_type": "markdown",
   "metadata": {
    "slideshow": {
     "slide_type": "slide"
    }
   },
   "source": [
    "## 真陽性 (True Positive), 偽陽性 (False Positive), <br>偽陰性 (False Negative), 真陰性 (True Negative)"
   ]
  },
  {
   "cell_type": "markdown",
   "metadata": {
    "slideshow": {
     "slide_type": "subslide"
    }
   },
   "source": [
    "<table>\n",
    "<tr>\n",
    "<th style=\"text-align:center;background:#eee\">&nbsp;</th><th style=\"text-align:center;background:#dde\">安全なキノコ</th><th style=\"text-align:center;background:#edd\">毒キノコ</th>\n",
    "</tr>\n",
    "<tr>\n",
    "<th style=\"text-align:center;background:#cce\">選んだキノコ</th><td style=\"text-align:center;background:#bbe\">3</td><td style=\"text-align:center;background:#cbd\">2</td>\n",
    "</tr>\n",
    "<tr>\n",
    "<th style=\"text-align:center;background:#ecc\">選ばなかったキノコ</th><td style=\"text-align:center;background:#dbc\">1</td><td style=\"text-align:center;background:#ebb\">4</td>\n",
    "</tr>\n",
    "</table>"
   ]
  },
  {
   "cell_type": "markdown",
   "metadata": {
    "collapsed": true,
    "slideshow": {
     "slide_type": "fragment"
    }
   },
   "source": [
    "+ 真(True) ＝ 正しい、偽(False) ＝間違い\n",
    "+ 陽(Positive) ＝ 選んだ、陰(Negative) ＝ 選ばなかった\n",
    "+ これらの組合せ。"
   ]
  },
  {
   "cell_type": "markdown",
   "metadata": {
    "slideshow": {
     "slide_type": "notes"
    }
   },
   "source": [
    "※ あまり日本語で「真陽」とか「偽陰」とか言わない。以降も英語の \"True Positive\" とか \"False Negative\" とかを用いる。"
   ]
  },
  {
   "cell_type": "markdown",
   "metadata": {
    "slideshow": {
     "slide_type": "subslide"
    }
   },
   "source": [
    "### True Positive"
   ]
  },
  {
   "cell_type": "markdown",
   "metadata": {
    "slideshow": {
     "slide_type": "-"
    }
   },
   "source": [
    "<table>\n",
    "<tr>\n",
    "<th style=\"text-align:center;background:#eee\">&nbsp;</th><th style=\"text-align:center;background:#dde\">安全なキノコ</th><th style=\"text-align:center;background:#eee\">毒キノコ</th>\n",
    "</tr>\n",
    "<tr>\n",
    "<th style=\"text-align:center;background:#cce\">選んだキノコ</th><td style=\"text-align:center;background:#bbe\">3</td><td style=\"text-align:center\">2</td>\n",
    "</tr>\n",
    "<tr>\n",
    "<th style=\"text-align:center;background:#eee\">選ばなかったキノコ</th><td style=\"text-align:center\">1</td><td style=\"text-align:center\">4</td>\n",
    "</tr>\n",
    "</table>"
   ]
  },
  {
   "cell_type": "markdown",
   "metadata": {},
   "source": [
    "$$\n",
    "{\\rm TP} = 3\n",
    "$$"
   ]
  },
  {
   "cell_type": "markdown",
   "metadata": {
    "collapsed": true,
    "slideshow": {
     "slide_type": "-"
    }
   },
   "source": [
    "+ 正しく選ばれた事象の数（＝安全なキノコを選んだ個数）"
   ]
  },
  {
   "cell_type": "markdown",
   "metadata": {
    "slideshow": {
     "slide_type": "notes"
    }
   },
   "source": [
    "※ 選択（＝Positive）が正しかった（＝True）、ということ。"
   ]
  },
  {
   "cell_type": "markdown",
   "metadata": {
    "slideshow": {
     "slide_type": "subslide"
    }
   },
   "source": [
    "### False Positive"
   ]
  },
  {
   "cell_type": "markdown",
   "metadata": {
    "slideshow": {
     "slide_type": "-"
    }
   },
   "source": [
    "<table>\n",
    "<tr>\n",
    "<th style=\"text-align:center;background:#eee\">&nbsp;</th><th style=\"text-align:center;background:#eee\">安全なキノコ</th><th style=\"text-align:center;background:#edd\">毒キノコ</th>\n",
    "</tr>\n",
    "<tr>\n",
    "<th style=\"text-align:center;background:#cce\">選んだキノコ</th><td style=\"text-align:center\">3</td><td style=\"text-align:center;background:#cbd\">2</td>\n",
    "</tr>\n",
    "<tr>\n",
    "<th style=\"text-align:center;background:#eee\">選ばなかったキノコ</th><td style=\"text-align:center\">1</td><td style=\"text-align:center\">4</td>\n",
    "</tr>\n",
    "</table>"
   ]
  },
  {
   "cell_type": "markdown",
   "metadata": {},
   "source": [
    "$$\n",
    "{\\rm FP} = 2\n",
    "$$"
   ]
  },
  {
   "cell_type": "markdown",
   "metadata": {
    "collapsed": true,
    "slideshow": {
     "slide_type": "-"
    }
   },
   "source": [
    "+ 間違って選ばれた事象の数（＝毒キノコを選んだ個数）"
   ]
  },
  {
   "cell_type": "markdown",
   "metadata": {
    "slideshow": {
     "slide_type": "notes"
    }
   },
   "source": [
    "※ 選択（＝Positive）が間違っていた（＝False）、ということ。"
   ]
  },
  {
   "cell_type": "markdown",
   "metadata": {
    "slideshow": {
     "slide_type": "subslide"
    }
   },
   "source": [
    "### False Negative"
   ]
  },
  {
   "cell_type": "markdown",
   "metadata": {
    "slideshow": {
     "slide_type": "-"
    }
   },
   "source": [
    "<table>\n",
    "<tr>\n",
    "<th style=\"text-align:center;background:#eee\">&nbsp;</th><th style=\"text-align:center;background:#dde\">安全なキノコ</th><th style=\"text-align:center;background:#eee\">毒キノコ</th>\n",
    "</tr>\n",
    "<tr>\n",
    "<th style=\"text-align:center;background:#eee\">選んだキノコ</th><td style=\"text-align:center\">3</td><td style=\"text-align:center\">2</td>\n",
    "</tr>\n",
    "<tr>\n",
    "<th style=\"text-align:center;background:#ecc\">選ばなかったキノコ</th><td style=\"text-align:center;background:#dbc\">1</td><td style=\"text-align:center\">4</td>\n",
    "</tr>\n",
    "</table>"
   ]
  },
  {
   "cell_type": "markdown",
   "metadata": {},
   "source": [
    "$$\n",
    "{\\rm FN} = 1\n",
    "$$"
   ]
  },
  {
   "cell_type": "markdown",
   "metadata": {
    "collapsed": true,
    "slideshow": {
     "slide_type": "-"
    }
   },
   "source": [
    "+ 間違って選ばれなかった事象の数（＝選ばなかったうちの安全なキノコの個数）"
   ]
  },
  {
   "cell_type": "markdown",
   "metadata": {
    "slideshow": {
     "slide_type": "notes"
    }
   },
   "source": [
    "※ 選択しなかったこと（＝Negative）が間違っていた（＝False）、ということ。"
   ]
  },
  {
   "cell_type": "markdown",
   "metadata": {
    "slideshow": {
     "slide_type": "subslide"
    }
   },
   "source": [
    "### True Negative"
   ]
  },
  {
   "cell_type": "markdown",
   "metadata": {
    "slideshow": {
     "slide_type": "-"
    }
   },
   "source": [
    "<table>\n",
    "<tr>\n",
    "<th style=\"text-align:center;background:#eee\">&nbsp;</th><th style=\"text-align:center;background:#eee\">安全なキノコ</th><th style=\"text-align:center;background:#edd\">毒キノコ</th>\n",
    "</tr>\n",
    "<tr>\n",
    "<th style=\"text-align:center;background:#eee\">選んだキノコ</th><td style=\"text-align:center\">3</td><td style=\"text-align:center\">2</td>\n",
    "</tr>\n",
    "<tr>\n",
    "<th style=\"text-align:center;background:#ecc\">選ばなかったキノコ</th><td style=\"text-align:center\">1</td><td style=\"text-align:center;background:#ebb\">4</td>\n",
    "</tr>\n",
    "</table>"
   ]
  },
  {
   "cell_type": "markdown",
   "metadata": {},
   "source": [
    "$$\n",
    "{\\rm TN} = 4\n",
    "$$"
   ]
  },
  {
   "cell_type": "markdown",
   "metadata": {
    "collapsed": true,
    "slideshow": {
     "slide_type": "-"
    }
   },
   "source": [
    "+ 正しく選ばれなかった事象の数（＝選ばなかったうちの毒キノコの個数）\n"
   ]
  },
  {
   "cell_type": "markdown",
   "metadata": {
    "slideshow": {
     "slide_type": "notes"
    }
   },
   "source": [
    "※ 選択しなかったこと（＝Negative）が正しかった（＝True）、ということ。"
   ]
  },
  {
   "cell_type": "markdown",
   "metadata": {
    "slideshow": {
     "slide_type": "slide"
    }
   },
   "source": [
    "### 混同行列 (Confusion Matrix) 改"
   ]
  },
  {
   "cell_type": "markdown",
   "metadata": {
    "slideshow": {
     "slide_type": "fragment"
    }
   },
   "source": [
    "<table>\n",
    "<tr>\n",
    "<th style=\"text-align:center;background:#eee\">&nbsp;</th><th style=\"text-align:center;background:#eee\">+</th><th style=\"text-align:center;background:#eee\">-</th>\n",
    "</tr>\n",
    "<tr>\n",
    "<th style=\"text-align:center;background:#eee\">(+)</th><td style=\"text-align:center\">TP</td><td style=\"text-align:center\">FP</td>\n",
    "</tr>\n",
    "<tr>\n",
    "<th style=\"text-align:center;background:#eee\">(-)</th><td style=\"text-align:center\">FN</td><td style=\"text-align:center\">TN</td>\n",
    "</tr>\n",
    "</table>"
   ]
  },
  {
   "cell_type": "markdown",
   "metadata": {
    "slideshow": {
     "slide_type": "slide"
    }
   },
   "source": [
    "## 評価指標の再定義"
   ]
  },
  {
   "cell_type": "markdown",
   "metadata": {
    "slideshow": {
     "slide_type": "notes"
    }
   },
   "source": [
    "※ `TP`, `FP`, `FN`, `TN` はそれぞれ、\"True Positive\", \"False Positive\", \"False Negative\", \"True Negative\" の頭文字。"
   ]
  },
  {
   "cell_type": "markdown",
   "metadata": {
    "slideshow": {
     "slide_type": "subslide"
    }
   },
   "source": [
    "### Accuracy"
   ]
  },
  {
   "cell_type": "markdown",
   "metadata": {
    "slideshow": {
     "slide_type": "fragment"
    }
   },
   "source": [
    "<table>\n",
    "<tr>\n",
    "<th style=\"text-align:center;background:#eee\">&nbsp;</th><th style=\"text-align:center;background:#eee\">+</th><th style=\"text-align:center;background:#eee\">-</th>\n",
    "</tr>\n",
    "<tr>\n",
    "<th style=\"text-align:center;background:#eee\">(+)</th><td style=\"text-align:center;background:#ddf;color:#c00;font-weight:bold\">TP</td><td style=\"text-align:center;background:#ddf\">FP</td>\n",
    "</tr>\n",
    "<tr>\n",
    "<th style=\"text-align:center;background:#eee\">(-)</th><td style=\"text-align:center;background:#ddf\">FN</td><td style=\"text-align:center;background:#ddf;color:#c00;font-weight:bold\">TN</td>\n",
    "</tr>\n",
    "</table>"
   ]
  },
  {
   "cell_type": "markdown",
   "metadata": {},
   "source": [
    "$$\n",
    "{\\rm Accuracy} = \\frac{{\\rm TP} + {\\rm TN}}{{\\rm TP} + {\\rm FP} + {\\rm FN} + {\\rm TN}}\n",
    "$$"
   ]
  },
  {
   "cell_type": "markdown",
   "metadata": {
    "slideshow": {
     "slide_type": "subslide"
    }
   },
   "source": [
    "### Precision"
   ]
  },
  {
   "cell_type": "markdown",
   "metadata": {
    "slideshow": {
     "slide_type": "fragment"
    }
   },
   "source": [
    "<table>\n",
    "<tr>\n",
    "<th style=\"text-align:center;background:#eee\">&nbsp;</th><th style=\"text-align:center;background:#eee\">+</th><th style=\"text-align:center;background:#eee\">-</th>\n",
    "</tr>\n",
    "<tr>\n",
    "<th style=\"text-align:center;background:#eef\">(+)</th><td style=\"text-align:center;background:#ddf;color:#c00;font-weight:bold\">TP</td><td style=\"text-align:center;background:#ddf\">FP</td>\n",
    "</tr>\n",
    "<tr>\n",
    "<th style=\"text-align:center;background:#eee\">(-)</th><td style=\"text-align:center\">FN</td><td style=\"text-align:center\">TN</td>\n",
    "</tr>\n",
    "</table>"
   ]
  },
  {
   "cell_type": "markdown",
   "metadata": {},
   "source": [
    "$$\n",
    "{\\rm Precision} = \\frac{\\rm TP}{{\\rm TP} + {\\rm FP}}\n",
    "$$"
   ]
  },
  {
   "cell_type": "markdown",
   "metadata": {
    "slideshow": {
     "slide_type": "subslide"
    }
   },
   "source": [
    "### Recall"
   ]
  },
  {
   "cell_type": "markdown",
   "metadata": {
    "slideshow": {
     "slide_type": "fragment"
    }
   },
   "source": [
    "<table>\n",
    "<tr>\n",
    "<th style=\"text-align:center;background:#eee\">&nbsp;</th><th style=\"text-align:center;background:#eef\">+</th><th style=\"text-align:center;background:#eee\">-</th>\n",
    "</tr>\n",
    "<tr>\n",
    "<th style=\"text-align:center;background:#eee\">(+)</th><td style=\"text-align:center;background:#ddf;color:#c00;font-weight:bold\">TP</td><td style=\"text-align:center\">FP</td>\n",
    "</tr>\n",
    "<tr>\n",
    "<th style=\"text-align:center;background:#eee\">(-)</th><td style=\"text-align:center;background:#ddf\">FN</td><td style=\"text-align:center\">TN</td>\n",
    "</tr>\n",
    "</table>"
   ]
  },
  {
   "cell_type": "markdown",
   "metadata": {},
   "source": [
    "$$\n",
    "{\\rm Recall} = \\frac{\\rm TP}{{\\rm TP} + {\\rm FN}}\n",
    "$$"
   ]
  },
  {
   "cell_type": "markdown",
   "metadata": {
    "slideshow": {
     "slide_type": "subslide"
    }
   },
   "source": [
    "### F1-Score"
   ]
  },
  {
   "cell_type": "markdown",
   "metadata": {
    "slideshow": {
     "slide_type": "fragment"
    }
   },
   "source": [
    "<table>\n",
    "<tr>\n",
    "<th style=\"text-align:center;background:#eee\">&nbsp;</th><th style=\"text-align:center;background:#eef\">+</th><th style=\"text-align:center;background:#eee\">-</th>\n",
    "</tr>\n",
    "<tr>\n",
    "<th style=\"text-align:center;background:#eef\">(+)</th><td style=\"text-align:center;background:#d0d0ff;color:#c00;font-weight:bold\">TP</td><td style=\"text-align:center;background:#ddf\">FP</td>\n",
    "</tr>\n",
    "<tr>\n",
    "<th style=\"text-align:center;background:#eee\">(-)</th><td style=\"text-align:center;background:#ddf\">FN</td><td style=\"text-align:center\">TN</td>\n",
    "</tr>\n",
    "</table>"
   ]
  },
  {
   "cell_type": "markdown",
   "metadata": {},
   "source": [
    "$$\n",
    "\\begin{eqnarray}\n",
    "{\\rm F}_1 &=& \\frac{2}{\\frac{1}{\\rm Precision} + \\frac{1}{\\rm Recall}}\\\\\n",
    "    &=& \\frac{2{\\rm TP}}{2{\\rm TP} + {\\rm FP} + {\\rm FN}}\n",
    "\\end{eqnarray}\n",
    "$$"
   ]
  },
  {
   "cell_type": "markdown",
   "metadata": {
    "slideshow": {
     "slide_type": "notes"
    }
   },
   "source": [
    "※ 実際には元の定義のように precison と recall から計算することが多い。"
   ]
  },
  {
   "cell_type": "markdown",
   "metadata": {
    "slideshow": {
     "slide_type": "slide"
    }
   },
   "source": [
    "## 実装例"
   ]
  },
  {
   "cell_type": "code",
   "execution_count": 1,
   "metadata": {
    "collapsed": true,
    "slideshow": {
     "slide_type": "skip"
    }
   },
   "outputs": [],
   "source": [
    "from __future__ import absolute_import\n",
    "from __future__ import division\n",
    "from __future__ import print_function\n",
    "\n",
    "import numpy as np"
   ]
  },
  {
   "cell_type": "markdown",
   "metadata": {
    "slideshow": {
     "slide_type": "notes"
    }
   },
   "source": [
    "※ NumPy を利用して、混同行列から TP/FP/FN/TN, Accuracy, Precision, Recall, F1Score をそれぞれ計算する実装例を示す。"
   ]
  },
  {
   "cell_type": "markdown",
   "metadata": {
    "slideshow": {
     "slide_type": "subslide"
    }
   },
   "source": [
    "### 準備：混同行列"
   ]
  },
  {
   "cell_type": "code",
   "execution_count": 2,
   "metadata": {
    "collapsed": false
   },
   "outputs": [],
   "source": [
    "cm = np.array([\n",
    "        [3, 2],\n",
    "        [1, 4]\n",
    "    ]).astype(np.int64)"
   ]
  },
  {
   "cell_type": "markdown",
   "metadata": {
    "slideshow": {
     "slide_type": "subslide"
    }
   },
   "source": [
    "### 混同行列から TP/FP/FN/TN を取得"
   ]
  },
  {
   "cell_type": "code",
   "execution_count": 3,
   "metadata": {
    "collapsed": true
   },
   "outputs": [],
   "source": [
    "def get_tfpn(cm):\n",
    "    # assert cm.shape == (2, 2)\n",
    "    return tuple(cm.reshape([4]))"
   ]
  },
  {
   "cell_type": "code",
   "execution_count": 4,
   "metadata": {
    "collapsed": false
   },
   "outputs": [
    {
     "data": {
      "text/plain": [
       "(3, 2, 1, 4)"
      ]
     },
     "execution_count": 4,
     "metadata": {},
     "output_type": "execute_result"
    }
   ],
   "source": [
    "TP, FP, FN, TN = get_tfpn(cm)\n",
    "(TP, FP, FN, TN)"
   ]
  },
  {
   "cell_type": "markdown",
   "metadata": {
    "slideshow": {
     "slide_type": "subslide"
    }
   },
   "source": [
    "### 混同行列から Accuracy 計算"
   ]
  },
  {
   "cell_type": "code",
   "execution_count": 5,
   "metadata": {
    "collapsed": true
   },
   "outputs": [],
   "source": [
    "def calc_accuracy(cm):\n",
    "    # assert cm.shape == (2, 2)\n",
    "    TP, FP, FN, TN = get_tfpn(cm)\n",
    "    return (TP + TN) / (TP + FP + FN + TN)"
   ]
  },
  {
   "cell_type": "code",
   "execution_count": 6,
   "metadata": {
    "collapsed": false
   },
   "outputs": [
    {
     "data": {
      "text/plain": [
       "0.69999999999999996"
      ]
     },
     "execution_count": 6,
     "metadata": {},
     "output_type": "execute_result"
    }
   ],
   "source": [
    "calc_accuracy(cm)"
   ]
  },
  {
   "cell_type": "markdown",
   "metadata": {
    "slideshow": {
     "slide_type": "subslide"
    }
   },
   "source": [
    "### 混同行列から Precision 計算"
   ]
  },
  {
   "cell_type": "code",
   "execution_count": 7,
   "metadata": {
    "collapsed": true
   },
   "outputs": [],
   "source": [
    "def calc_precision(cm):\n",
    "    # assert cm.shape == (2, 2)\n",
    "    TP, FP, _, _ = get_tfpn(cm)\n",
    "    return TP / (TP + FP)"
   ]
  },
  {
   "cell_type": "code",
   "execution_count": 8,
   "metadata": {
    "collapsed": false
   },
   "outputs": [
    {
     "data": {
      "text/plain": [
       "0.59999999999999998"
      ]
     },
     "execution_count": 8,
     "metadata": {},
     "output_type": "execute_result"
    }
   ],
   "source": [
    "calc_precision(cm)"
   ]
  },
  {
   "cell_type": "markdown",
   "metadata": {
    "slideshow": {
     "slide_type": "subslide"
    }
   },
   "source": [
    "### 混同行列から Recall 計算"
   ]
  },
  {
   "cell_type": "code",
   "execution_count": 9,
   "metadata": {
    "collapsed": true
   },
   "outputs": [],
   "source": [
    "def calc_recall(cm):\n",
    "    # assert cm.shape == (2, 2)\n",
    "    TP, _, FN, _ = get_tfpn(cm)\n",
    "    return TP / (TP + FN)"
   ]
  },
  {
   "cell_type": "code",
   "execution_count": 10,
   "metadata": {
    "collapsed": false
   },
   "outputs": [
    {
     "data": {
      "text/plain": [
       "0.75"
      ]
     },
     "execution_count": 10,
     "metadata": {},
     "output_type": "execute_result"
    }
   ],
   "source": [
    "calc_recall(cm)"
   ]
  },
  {
   "cell_type": "markdown",
   "metadata": {
    "slideshow": {
     "slide_type": "subslide"
    }
   },
   "source": [
    "### 混同行列から F1-Score 計算"
   ]
  },
  {
   "cell_type": "code",
   "execution_count": 11,
   "metadata": {
    "collapsed": true
   },
   "outputs": [],
   "source": [
    "def calc_f1score(cm):\n",
    "    # assert cm.shape == (2, 2)\n",
    "    TP, FP, FN, _ = get_tfpn(cm)\n",
    "    return 2 * TP / (2 * TP + FP + FN)"
   ]
  },
  {
   "cell_type": "code",
   "execution_count": 12,
   "metadata": {
    "collapsed": false
   },
   "outputs": [
    {
     "data": {
      "text/plain": [
       "0.66666666666666663"
      ]
     },
     "execution_count": 12,
     "metadata": {},
     "output_type": "execute_result"
    }
   ],
   "source": [
    "calc_f1score(cm)"
   ]
  },
  {
   "cell_type": "markdown",
   "metadata": {
    "slideshow": {
     "slide_type": "skip"
    }
   },
   "source": [
    "# 多値分類の評価指標"
   ]
  },
  {
   "cell_type": "markdown",
   "metadata": {
    "slideshow": {
     "slide_type": "slide"
    }
   },
   "source": [
    "# シチュエーションその2"
   ]
  },
  {
   "cell_type": "markdown",
   "metadata": {
    "slideshow": {
     "slide_type": "fragment"
    }
   },
   "source": [
    "+ 金メダル・銀メダル・銅メダル が合計 30個 ある。デザインは同じ。\n",
    "+ 誰かがいたずらで全部真っ赤なペンキを塗ってしまった。\n",
    "+ どれが金メダルか・銀メダルか・銅メダルか、仕分けしたい。"
   ]
  },
  {
   "cell_type": "markdown",
   "metadata": {
    "slideshow": {
     "slide_type": "slide"
    }
   },
   "source": [
    "## 分類結果（＝混同行列）"
   ]
  },
  {
   "cell_type": "markdown",
   "metadata": {
    "slideshow": {
     "slide_type": "fragment"
    }
   },
   "source": [
    "<table>\n",
    "<tr>\n",
    "<th style=\"text-align:center;background:#eee\">&nbsp;</th><th style=\"text-align:center;background:#eee\">金メダル</th><th style=\"text-align:center;background:#eee\">銀メダル</th><th style=\"text-align:center;background:#eee\">銅メダル</th>\n",
    "</tr>\n",
    "<tr>\n",
    "<th style=\"text-align:center;background:#eee\">たぶん金メダル</th><td style=\"text-align:center\">7</td><td style=\"text-align:center\">0</td><td style=\"text-align:center\">3</td>\n",
    "</tr>\n",
    "<tr>\n",
    "<th style=\"text-align:center;background:#eee\">たぶん銀メダル</th><td style=\"text-align:center\">1</td><td style=\"text-align:center\">8</td><td style=\"text-align:center\">1</td>\n",
    "</tr>\n",
    "<tr>\n",
    "<th style=\"text-align:center;background:#eee\">たぶん銅メダル</th><td style=\"text-align:center\">0</td><td style=\"text-align:center\">1</td><td style=\"text-align:center\">9</td>\n",
    "</tr>\n",
    "</table>"
   ]
  },
  {
   "cell_type": "markdown",
   "metadata": {
    "slideshow": {
     "slide_type": "slide"
    }
   },
   "source": [
    "## TP, FP, FN, TN"
   ]
  },
  {
   "cell_type": "markdown",
   "metadata": {
    "slideshow": {
     "slide_type": "subslide"
    }
   },
   "source": [
    "### まず「金メダル」に注目してみる。"
   ]
  },
  {
   "cell_type": "markdown",
   "metadata": {
    "slideshow": {
     "slide_type": "-"
    }
   },
   "source": [
    "<table>\n",
    "<tr>\n",
    "<th style=\"text-align:center;background:#eee\">&nbsp;</th><th style=\"text-align:center;background:#dde\">金メダル</th><th style=\"text-align:center;background:#edd\">銀メダル</th><th style=\"text-align:center;background:#edd\">銅メダル</th>\n",
    "</tr>\n",
    "<tr>\n",
    "<th style=\"text-align:center;background:#cce\">たぶん金メダル</th><td style=\"text-align:center;background:#bbe\">7</td><td style=\"text-align:center;background:#cbd\">0</td><td style=\"text-align:center;background:#cbd\">3</td>\n",
    "</tr>\n",
    "<tr>\n",
    "<th style=\"text-align:center;background:#ecc\">たぶん銀メダル</th><td style=\"text-align:center;background:#dbc\">1</td><td style=\"text-align:center;background:#ebb\">8</td><td style=\"text-align:center;background:#ebb\">1</td>\n",
    "</tr>\n",
    "<tr>\n",
    "<th style=\"text-align:center;background:#ecc\">たぶん銅メダル</th><td style=\"text-align:center;background:#dbc\">0</td><td style=\"text-align:center;background:#ebb\">1</td><td style=\"text-align:center;background:#ebb\">9</td>\n",
    "</tr>\n",
    "</table>"
   ]
  },
  {
   "cell_type": "markdown",
   "metadata": {
    "slideshow": {
     "slide_type": "subslide"
    }
   },
   "source": [
    "### 「金メダルじゃない」をまとめる。"
   ]
  },
  {
   "cell_type": "markdown",
   "metadata": {
    "slideshow": {
     "slide_type": "-"
    }
   },
   "source": [
    "<table>\n",
    "<tr>\n",
    "<th style=\"text-align:center;background:#eee\">&nbsp;</th><th style=\"text-align:center;background:#dde\">金メダル</th><th style=\"text-align:center;background:#edd\">金メダルじゃない</th>\n",
    "</tr>\n",
    "<tr>\n",
    "<th style=\"text-align:center;background:#cce\">たぶん金メダル</th><td style=\"text-align:center;background:#bbe\">7</td><td style=\"text-align:center;background:#cbd\">3</td>\n",
    "</tr>\n",
    "<tr>\n",
    "<th style=\"text-align:center;background:#ecc\">たぶん金メダルじゃない</th><td style=\"text-align:center;background:#dbc\">1</td><td style=\"text-align:center;background:#ebb\">19</td>\n",
    "</tr>\n",
    "</table>"
   ]
  },
  {
   "cell_type": "markdown",
   "metadata": {
    "slideshow": {
     "slide_type": "subslide"
    }
   },
   "source": [
    "### 「金メダルかどうか」で TP〜TN が計算できる。"
   ]
  },
  {
   "cell_type": "markdown",
   "metadata": {
    "slideshow": {
     "slide_type": "-"
    }
   },
   "source": [
    "$$\n",
    "\\begin{eqnarray}\n",
    "{\\rm TP}_G &=& 7\\\\\n",
    "{\\rm FP}_G &=& 3\\\\\n",
    "{\\rm FN}_G &=& 1\\\\\n",
    "{\\rm TN}_G &=& 19\n",
    "\\end{eqnarray}\n",
    "$$"
   ]
  },
  {
   "cell_type": "markdown",
   "metadata": {
    "slideshow": {
     "slide_type": "subslide"
    }
   },
   "source": [
    "### 他のメダルでも同様に。"
   ]
  },
  {
   "cell_type": "markdown",
   "metadata": {
    "slideshow": {
     "slide_type": "fragment"
    }
   },
   "source": [
    "<table>\n",
    "<tr>\n",
    "<th style=\"text-align:center;background:#eee\">&nbsp;</th><th style=\"text-align:center;background:#eee\">TP</th><th style=\"text-align:center;background:#eee\">FP</th><th style=\"text-align:center;background:#eee\">FN</th><th style=\"text-align:center;background:#eee\">TN</th>\n",
    "</tr>\n",
    "<tr>\n",
    "<th style=\"text-align:center;background:#eee\">金メダル</th><td style=\"text-align:center\">7</td><td style=\"text-align:center\">3</td><td style=\"text-align:center\">1</td><td style=\"text-align:center\">19</td>\n",
    "</tr>\n",
    "<tr>\n",
    "<th style=\"text-align:center;background:#eee\">銀メダル</th><td style=\"text-align:center\">8</td><td style=\"text-align:center\">2</td><td style=\"text-align:center\">1</td><td style=\"text-align:center\">19</td>\n",
    "</tr>\n",
    "<tr>\n",
    "<th style=\"text-align:center;background:#eee\">銅メダル</th><td style=\"text-align:center\">9</td><td style=\"text-align:center\">1</td><td style=\"text-align:center\">4</td><td style=\"text-align:center\">16</td>\n",
    "</tr>\n",
    "</table>"
   ]
  },
  {
   "cell_type": "markdown",
   "metadata": {
    "slideshow": {
     "slide_type": "notes"
    }
   },
   "source": [
    "※ 各クラス（この場合「金メダル」「銀メダル」「銅メダル」それぞれ）の視点で TP/FP/FN/TN を計算する！  \n",
    "　 これを後で利用する！"
   ]
  },
  {
   "cell_type": "markdown",
   "metadata": {
    "slideshow": {
     "slide_type": "slide"
    }
   },
   "source": [
    "## 正解率（全正解率）"
   ]
  },
  {
   "cell_type": "markdown",
   "metadata": {
    "slideshow": {
     "slide_type": "subslide"
    }
   },
   "source": [
    "<table>\n",
    "<tr>\n",
    "<th style=\"text-align:center;background:#eee\">&nbsp;</th><th style=\"text-align:center;background:#eee\">金メダル</th><th style=\"text-align:center;background:#eee\">銀メダル</th><th style=\"text-align:center;background:#eee\">銅メダル</th>\n",
    "</tr>\n",
    "<tr>\n",
    "<th style=\"text-align:center;background:#eee\">たぶん金メダル</th><td style=\"text-align:center;background:#ddf;color:#c00;font-weight:bold\">7</td><td style=\"text-align:center;background:#ddf\">0</td><td style=\"text-align:center;background:#ddf\">3</td>\n",
    "</tr>\n",
    "<tr>\n",
    "<th style=\"text-align:center;background:#eee\">たぶん銀メダル</th><td style=\"text-align:center;background:#ddf\">1</td><td style=\"text-align:center;background:#ddf;color:#c00;font-weight:bold\">8</td><td style=\"text-align:center;background:#ddf\">1</td>\n",
    "</tr>\n",
    "<tr>\n",
    "<th style=\"text-align:center;background:#eee\">たぶん銅メダル</th><td style=\"text-align:center;background:#ddf\">0</td><td style=\"text-align:center;background:#ddf\">1</td><td style=\"text-align:center;background:#ddf;color:#c00;font-weight:bold\">9</td>\n",
    "</tr>\n",
    "</table>"
   ]
  },
  {
   "cell_type": "markdown",
   "metadata": {},
   "source": [
    "$$\n",
    "\\begin{eqnarray}\n",
    "{\\rm Accuracy} &=& \\frac{\\sum_i {\\rm TP}_i}{{\\rm TP}_G + {\\rm FP}_G + {\\rm FN}_G + {\\rm TN}_G}\\\\\n",
    "&=& 0.8\n",
    "\\end{eqnarray}\n",
    "$$"
   ]
  },
  {
   "cell_type": "markdown",
   "metadata": {},
   "source": [
    "+ 全メダルのうちの、正解だったメダルの割合。\n",
    "+ （混同行列上は）2値分類のときと同じ考え方。最もシンプルな指標。"
   ]
  },
  {
   "cell_type": "markdown",
   "metadata": {
    "slideshow": {
     "slide_type": "slide"
    }
   },
   "source": [
    "## 平均正解率"
   ]
  },
  {
   "cell_type": "markdown",
   "metadata": {
    "slideshow": {
     "slide_type": "subslide"
    }
   },
   "source": [
    "<table>\n",
    "<tr>\n",
    "<th style=\"text-align:center;background:#eee\">&nbsp;</th><th style=\"text-align:center;background:#eee;color:#c00\">TP</th><th style=\"text-align:center;background:#eee\">FP</th><th style=\"text-align:center;background:#eee\">FN</th><th style=\"text-align:center;background:#eee;color:#c00\">TN</th>\n",
    "</tr>\n",
    "<tr style=\"background:#e2e2ff\">\n",
    "<th style=\"text-align:center;background:#eee\">金メダル</th><td style=\"text-align:center;color:#c00\">7</td><td style=\"text-align:center\">3</td><td style=\"text-align:center\">1</td><td style=\"text-align:center;color:#c00\">19</td>\n",
    "</tr>\n",
    "<tr style=\"background:#d9d9ff\">\n",
    "<th style=\"text-align:center;background:#eee\">銀メダル</th><td style=\"text-align:center;color:#c00\">8</td><td style=\"text-align:center\">2</td><td style=\"text-align:center\">1</td><td style=\"text-align:center;color:#c00\">19</td>\n",
    "</tr>\n",
    "<tr style=\"background:#d0d0ff\">\n",
    "<th style=\"text-align:center;background:#eee\">銅メダル</th><td style=\"text-align:center;color:#c00\">9</td><td style=\"text-align:center\">1</td><td style=\"text-align:center\">4</td><td style=\"text-align:center;color:#c00\">16</td>\n",
    "</tr>\n",
    "</table>"
   ]
  },
  {
   "cell_type": "markdown",
   "metadata": {},
   "source": [
    "$$\n",
    "\\begin{eqnarray}\n",
    "{\\rm AvgAccuracy} &=& \\frac{\\sum_i \\frac{{\\rm TP}_i + {\\rm TN}_i}{{\\rm TP}_i + {\\rm FP}_i + {\\rm FN}_i + {\\rm TN}_i}}{l}\\\\\n",
    "&=& 0.866666\\dots\n",
    "\\end{eqnarray}\n",
    "$$"
   ]
  },
  {
   "cell_type": "markdown",
   "metadata": {},
   "source": [
    "+ 各メダルごとに正解率を出して、その平均（相加平均）を取る。\n",
    "+ 「どのクラス（この場合メダル）もそれなりによく正解しているか」が分かる指標。"
   ]
  },
  {
   "cell_type": "markdown",
   "metadata": {
    "slideshow": {
     "slide_type": "slide"
    }
   },
   "source": [
    "## 平均適合率（マクロ適合率）"
   ]
  },
  {
   "cell_type": "markdown",
   "metadata": {
    "slideshow": {
     "slide_type": "subslide"
    }
   },
   "source": [
    "<table>\n",
    "<tr>\n",
    "<th style=\"text-align:center;background:#eee\">&nbsp;</th><th style=\"text-align:center;background:#eef;color:#c00\">TP</th><th style=\"text-align:center;background:#eef\">FP</th><th style=\"text-align:center;background:#eee\">FN</th><th style=\"text-align:center;background:#eee\">TN</th>\n",
    "</tr>\n",
    "<tr>\n",
    "<th style=\"text-align:center;background:#eee\">金メダル</th><td style=\"text-align:center;background:#e2e2ff;color:#c00\">7</td><td style=\"text-align:center;background:#e2e2ff\">3</td><td style=\"text-align:center\">1</td><td style=\"text-align:center\">19</td>\n",
    "</tr>\n",
    "<tr>\n",
    "<th style=\"text-align:center;background:#eee\">銀メダル</th><td style=\"text-align:center;background:#d9d9ff;color:#c00\">8</td><td style=\"text-align:center;background:#d9d9ff\">2</td><td style=\"text-align:center\">1</td><td style=\"text-align:center\">19</td>\n",
    "</tr>\n",
    "<tr>\n",
    "<th style=\"text-align:center;background:#eee\">銅メダル</th><td style=\"text-align:center;background:#d0d0ff;color:#c00\">9</td><td style=\"text-align:center;background:#d0d0ff\">1</td><td style=\"text-align:center\">4</td><td style=\"text-align:center\">16</td>\n",
    "</tr>\n",
    "</table>"
   ]
  },
  {
   "cell_type": "markdown",
   "metadata": {},
   "source": [
    "$$\n",
    "\\begin{eqnarray}\n",
    "{\\rm Precision_M} &=& \\frac{\\sum_i \\frac{{\\rm TP}_i}{{\\rm TP}_i + {\\rm FP}_i}}{l}\\\\\n",
    "&=& 0.8\n",
    "\\end{eqnarray}\n",
    "$$"
   ]
  },
  {
   "cell_type": "markdown",
   "metadata": {},
   "source": [
    "+ 各メダルごとに適合率を出して、その平均（相加平均）を取る。\n",
    "+ 「どのクラス（この場合メダル）もそれなりによく『見る目』があるか」が分かる指標。"
   ]
  },
  {
   "cell_type": "markdown",
   "metadata": {
    "slideshow": {
     "slide_type": "slide"
    }
   },
   "source": [
    "## 平均再現率（マクロ再現率）"
   ]
  },
  {
   "cell_type": "markdown",
   "metadata": {
    "slideshow": {
     "slide_type": "subslide"
    }
   },
   "source": [
    "<table>\n",
    "<tr>\n",
    "<th style=\"text-align:center;background:#eee\">&nbsp;</th><th style=\"text-align:center;background:#eef;color:#c00\">TP</th><th style=\"text-align:center;background:#eee\">FP</th><th style=\"text-align:center;background:#eef\">FN</th><th style=\"text-align:center;background:#eee\">TN</th>\n",
    "</tr>\n",
    "<tr>\n",
    "<th style=\"text-align:center;background:#eee\">金メダル</th><td style=\"text-align:center;background:#e2e2ff;color:#c00\">7</td><td style=\"text-align:center\">3</td><td style=\"text-align:center;background:#e2e2ff\">1</td><td style=\"text-align:center\">19</td>\n",
    "</tr>\n",
    "<tr>\n",
    "<th style=\"text-align:center;background:#eee\">銀メダル</th><td style=\"text-align:center;background:#d9d9ff;color:#c00\">8</td><td style=\"text-align:center\">2</td><td style=\"text-align:center;background:#d9d9ff\">1</td><td style=\"text-align:center\">19</td>\n",
    "</tr>\n",
    "<tr>\n",
    "<th style=\"text-align:center;background:#eee\">銅メダル</th><td style=\"text-align:center;background:#d0d0ff;color:#c00\">9</td><td style=\"text-align:center\">1</td><td style=\"text-align:center;background:#d0d0ff\">4</td><td style=\"text-align:center\">16</td>\n",
    "</tr>\n",
    "</table>"
   ]
  },
  {
   "cell_type": "markdown",
   "metadata": {},
   "source": [
    "$$\n",
    "\\begin{eqnarray}\n",
    "{\\rm Recall_M} &=& \\frac{\\sum_i \\frac{{\\rm TP}_i}{{\\rm TP}_i + {\\rm FN}_i}}{l}\\\\\n",
    "&=& 0.818732\\dots\n",
    "\\end{eqnarray}\n",
    "$$"
   ]
  },
  {
   "cell_type": "markdown",
   "metadata": {},
   "source": [
    "+ 各メダルごとに再現率を出して、その平均（相加平均）を取る。\n",
    "+ 「どのクラス（この場合メダル）もそれなりによく『取りこぼしがない』か」が分かる指標。"
   ]
  },
  {
   "cell_type": "markdown",
   "metadata": {
    "slideshow": {
     "slide_type": "slide"
    }
   },
   "source": [
    "## 平均F-値（マクロF-値）"
   ]
  },
  {
   "cell_type": "markdown",
   "metadata": {
    "slideshow": {
     "slide_type": "subslide"
    }
   },
   "source": [
    "$$\n",
    "\\begin{eqnarray}\n",
    "{\\rm F_{1M}} &=& \\frac{2 \\times {\\rm Precision_M} \\times {\\rm Recall_M}}{{\\rm Precision_M} + {\\rm Recall_M}}\\\\\n",
    "&=& 0.809257\\dots\n",
    "\\end{eqnarray}\n",
    "$$"
   ]
  },
  {
   "cell_type": "markdown",
   "metadata": {
    "slideshow": {
     "slide_type": "-"
    }
   },
   "source": [
    "+ 平均適合率 と 平均再現率 とで計算する F-値。"
   ]
  },
  {
   "cell_type": "markdown",
   "metadata": {
    "slideshow": {
     "slide_type": "notes"
    }
   },
   "source": [
    "※ 他にも指標はあるけれど、取り敢えずこのあたりを押さえておけば。"
   ]
  },
  {
   "cell_type": "markdown",
   "metadata": {
    "slideshow": {
     "slide_type": "slide"
    }
   },
   "source": [
    "## 実装例"
   ]
  },
  {
   "cell_type": "markdown",
   "metadata": {
    "slideshow": {
     "slide_type": "notes"
    }
   },
   "source": [
    "※ NumPy を利用して、混同行列から TP/FP/FN/TN, Accuracy, その他 をそれぞれ計算する実装例を示す。"
   ]
  },
  {
   "cell_type": "markdown",
   "metadata": {
    "slideshow": {
     "slide_type": "subslide"
    }
   },
   "source": [
    "### 準備：混同行列"
   ]
  },
  {
   "cell_type": "code",
   "execution_count": 13,
   "metadata": {
    "collapsed": false
   },
   "outputs": [],
   "source": [
    "cm = np.array([\n",
    "        [7, 0, 3],\n",
    "        [1, 8, 1],\n",
    "        [0, 1, 9]\n",
    "    ])"
   ]
  },
  {
   "cell_type": "markdown",
   "metadata": {
    "slideshow": {
     "slide_type": "subslide"
    }
   },
   "source": [
    "### 混同行列から TP/FP/FN/TN を（リストで）取得"
   ]
  },
  {
   "cell_type": "code",
   "execution_count": 14,
   "metadata": {
    "collapsed": true
   },
   "outputs": [],
   "source": [
    "def get_tfpn(cm):\n",
    "    tp = np.diag(cm)\n",
    "    fp = np.sum(cm, axis=1) - tp\n",
    "    fn = np.sum(cm, axis=0) - tp\n",
    "    tn = np.sum(cm) - tp - fp - fn\n",
    "    return (tp, fp, fn, tn)"
   ]
  },
  {
   "cell_type": "code",
   "execution_count": 15,
   "metadata": {
    "collapsed": false
   },
   "outputs": [
    {
     "data": {
      "text/plain": [
       "(array([7, 8, 9]), array([3, 2, 1]), array([1, 1, 4]), array([19, 19, 16]))"
      ]
     },
     "execution_count": 15,
     "metadata": {},
     "output_type": "execute_result"
    }
   ],
   "source": [
    "TP, FP, FN, TN = get_tfpn(cm)\n",
    "(TP, FP, FN, TN)"
   ]
  },
  {
   "cell_type": "markdown",
   "metadata": {
    "slideshow": {
     "slide_type": "subslide"
    }
   },
   "source": [
    "### 混同行列から Accuracy（全正解率）計算"
   ]
  },
  {
   "cell_type": "code",
   "execution_count": 16,
   "metadata": {
    "collapsed": true
   },
   "outputs": [],
   "source": [
    "def calc_accuracy(cm):\n",
    "    # TP, FP, FN, TN = get_tfpn(cm)\n",
    "    TP = np.diag(cm)\n",
    "    return np.sum(TP) / np.sum(cm)"
   ]
  },
  {
   "cell_type": "code",
   "execution_count": 17,
   "metadata": {
    "collapsed": false
   },
   "outputs": [
    {
     "data": {
      "text/plain": [
       "0.80000000000000004"
      ]
     },
     "execution_count": 17,
     "metadata": {},
     "output_type": "execute_result"
    }
   ],
   "source": [
    "calc_accuracy(cm)"
   ]
  },
  {
   "cell_type": "markdown",
   "metadata": {
    "slideshow": {
     "slide_type": "subslide"
    }
   },
   "source": [
    "### 混同行列から AvgAccuracy（平均正解率）計算"
   ]
  },
  {
   "cell_type": "code",
   "execution_count": 18,
   "metadata": {
    "collapsed": true
   },
   "outputs": [],
   "source": [
    "def calc_avg_accuracy(cm):\n",
    "    TP, _, _, TN = get_tfpn(cm)\n",
    "    return np.mean((TP + TN) / np.sum(cm))"
   ]
  },
  {
   "cell_type": "code",
   "execution_count": 19,
   "metadata": {
    "collapsed": false
   },
   "outputs": [
    {
     "data": {
      "text/plain": [
       "0.8666666666666667"
      ]
     },
     "execution_count": 19,
     "metadata": {},
     "output_type": "execute_result"
    }
   ],
   "source": [
    "calc_avg_accuracy(cm)"
   ]
  },
  {
   "cell_type": "markdown",
   "metadata": {
    "slideshow": {
     "slide_type": "subslide"
    }
   },
   "source": [
    "### 混同行列から PrecisionM（平均適合率） 計算"
   ]
  },
  {
   "cell_type": "code",
   "execution_count": 20,
   "metadata": {
    "collapsed": true
   },
   "outputs": [],
   "source": [
    "def calc_precision_M(cm):\n",
    "    TP, FP, _, _ = get_tfpn(cm)\n",
    "    return np.mean(TP / (TP + FP))"
   ]
  },
  {
   "cell_type": "code",
   "execution_count": 21,
   "metadata": {
    "collapsed": false
   },
   "outputs": [
    {
     "data": {
      "text/plain": [
       "0.79999999999999993"
      ]
     },
     "execution_count": 21,
     "metadata": {},
     "output_type": "execute_result"
    }
   ],
   "source": [
    "calc_precision_M(cm)"
   ]
  },
  {
   "cell_type": "markdown",
   "metadata": {
    "slideshow": {
     "slide_type": "subslide"
    }
   },
   "source": [
    "### 混同行列から RecallM（平均再現率） 計算"
   ]
  },
  {
   "cell_type": "code",
   "execution_count": 22,
   "metadata": {
    "collapsed": true
   },
   "outputs": [],
   "source": [
    "def calc_recall_M(cm):\n",
    "    TP, _, FN, _ = get_tfpn(cm)\n",
    "    return np.mean(TP / (TP + FN))"
   ]
  },
  {
   "cell_type": "code",
   "execution_count": 23,
   "metadata": {
    "collapsed": false
   },
   "outputs": [
    {
     "data": {
      "text/plain": [
       "0.81873219373219364"
      ]
     },
     "execution_count": 23,
     "metadata": {},
     "output_type": "execute_result"
    }
   ],
   "source": [
    "calc_recall_M(cm)"
   ]
  },
  {
   "cell_type": "markdown",
   "metadata": {
    "slideshow": {
     "slide_type": "subslide"
    }
   },
   "source": [
    "### 混同行列から F1-ScoreM（平均F-値） 計算"
   ]
  },
  {
   "cell_type": "code",
   "execution_count": 24,
   "metadata": {
    "collapsed": true
   },
   "outputs": [],
   "source": [
    "def calc_f1score_M(cm):\n",
    "    p = calc_precision_M(cm)\n",
    "    r = calc_recall_M(cm)\n",
    "    return 2 * p * r / (p + r)"
   ]
  },
  {
   "cell_type": "code",
   "execution_count": 25,
   "metadata": {
    "collapsed": false
   },
   "outputs": [
    {
     "data": {
      "text/plain": [
       "0.80925771109253308"
      ]
     },
     "execution_count": 25,
     "metadata": {},
     "output_type": "execute_result"
    }
   ],
   "source": [
    "calc_f1score_M(cm)"
   ]
  },
  {
   "cell_type": "markdown",
   "metadata": {
    "slideshow": {
     "slide_type": "slide"
    }
   },
   "source": [
    "## 参考"
   ]
  },
  {
   "cell_type": "markdown",
   "metadata": {
    "slideshow": {
     "slide_type": "-"
    }
   },
   "source": [
    "+ [A systematic analysis of performance measures for classification tasks](http://atour.iro.umontreal.ca/rali/sites/default/files/publis/SokolovaLapalme-JIPM09.pdf) (PDF)"
   ]
  },
  {
   "cell_type": "code",
   "execution_count": null,
   "metadata": {
    "collapsed": true,
    "slideshow": {
     "slide_type": "skip"
    }
   },
   "outputs": [],
   "source": []
  }
 ],
 "metadata": {
  "celltoolbar": "Slideshow",
  "kernelspec": {
   "display_name": "Python 2",
   "language": "python",
   "name": "python2"
  },
  "language_info": {
   "codemirror_mode": {
    "name": "ipython",
    "version": 2
   },
   "file_extension": ".py",
   "mimetype": "text/x-python",
   "name": "python",
   "nbconvert_exporter": "python",
   "pygments_lexer": "ipython2",
   "version": "2.7.9"
  }
 },
 "nbformat": 4,
 "nbformat_minor": 0
}
